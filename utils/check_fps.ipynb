{
 "cells": [
  {
   "cell_type": "code",
   "execution_count": 3,
   "metadata": {},
   "outputs": [
    {
     "name": "stdout",
     "output_type": "stream",
     "text": [
      "Default FPS: 30.0\n"
     ]
    }
   ],
   "source": [
    "import cv2\n",
    "\n",
    "# Open the video fileㄋ\n",
    "video_path = 'datasets/ncku-datasets/投籃肢段辨識/大螢幕版本/正面.mp4'\n",
    "cap = cv2.VideoCapture(video_path)\n",
    "\n",
    "# Get the default FPS (frames per second) of the video\n",
    "default_fps = cap.get(cv2.CAP_PROP_FPS)\n",
    "\n",
    "# Print the default FPS\n",
    "print('Default FPS:', default_fps)"
   ]
  }
 ],
 "metadata": {
  "kernelspec": {
   "display_name": "sports-ai",
   "language": "python",
   "name": "python3"
  },
  "language_info": {
   "codemirror_mode": {
    "name": "ipython",
    "version": 3
   },
   "file_extension": ".py",
   "mimetype": "text/x-python",
   "name": "python",
   "nbconvert_exporter": "python",
   "pygments_lexer": "ipython3",
   "version": "3.11.4"
  },
  "orig_nbformat": 4
 },
 "nbformat": 4,
 "nbformat_minor": 2
}
