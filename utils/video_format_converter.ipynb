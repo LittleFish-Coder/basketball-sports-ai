{
 "cells": [
  {
   "cell_type": "code",
   "execution_count": 1,
   "metadata": {},
   "outputs": [
    {
     "name": "stderr",
     "output_type": "stream",
     "text": [
      "ffmpeg version 6.0 Copyright (c) 2000-2023 the FFmpeg developers\n",
      "  built with Apple clang version 14.0.3 (clang-1403.0.22.14.1)\n",
      "  configuration: --prefix=/opt/homebrew/Cellar/ffmpeg/6.0_1 --enable-shared --enable-pthreads --enable-version3 --cc=clang --host-cflags= --host-ldflags= --enable-ffplay --enable-gnutls --enable-gpl --enable-libaom --enable-libaribb24 --enable-libbluray --enable-libdav1d --enable-libmp3lame --enable-libopus --enable-librav1e --enable-librist --enable-librubberband --enable-libsnappy --enable-libsrt --enable-libsvtav1 --enable-libtesseract --enable-libtheora --enable-libvidstab --enable-libvmaf --enable-libvorbis --enable-libvpx --enable-libwebp --enable-libx264 --enable-libx265 --enable-libxml2 --enable-libxvid --enable-lzma --enable-libfontconfig --enable-libfreetype --enable-frei0r --enable-libass --enable-libopencore-amrnb --enable-libopencore-amrwb --enable-libopenjpeg --enable-libspeex --enable-libsoxr --enable-libzmq --enable-libzimg --disable-libjack --disable-indev=jack --enable-videotoolbox --enable-audiotoolbox --enable-neon\n",
      "  libavutil      58.  2.100 / 58.  2.100\n",
      "  libavcodec     60.  3.100 / 60.  3.100\n",
      "  libavformat    60.  3.100 / 60.  3.100\n",
      "  libavdevice    60.  1.100 / 60.  1.100\n",
      "  libavfilter     9.  3.100 /  9.  3.100\n",
      "  libswscale      7.  1.100 /  7.  1.100\n",
      "  libswresample   4. 10.100 /  4. 10.100\n",
      "  libpostproc    57.  1.100 / 57.  1.100\n",
      "Input #0, matroska,webm, from './2023-10-11 23-35-15.mkv':\n",
      "  Metadata:\n",
      "    ENCODER         : Lavf60.3.100\n",
      "  Duration: 00:00:21.28, start: 0.000000, bitrate: 3745 kb/s\n",
      "  Stream #0:0: Video: h264 (High), yuv420p(tv, bt709, progressive), 2940x1912, 60 fps, 60 tbr, 1k tbn\n",
      "    Metadata:\n",
      "      DURATION        : 00:00:21.284000000\n",
      "  Stream #0:1: Audio: aac (LC), 48000 Hz, stereo, fltp\n",
      "    Metadata:\n",
      "      title           : simple_aac_recording0\n",
      "      DURATION        : 00:00:21.269000000\n",
      "Stream mapping:\n",
      "  Stream #0:0 -> #0:0 (h264 (native) -> h264 (libx264))\n",
      "  Stream #0:1 -> #0:1 (aac (native) -> aac (native))\n",
      "Press [q] to stop, [?] for help\n",
      "[libx264 @ 0x12cf0a110] using cpu capabilities: ARMv8 NEON\n",
      "[libx264 @ 0x12cf0a110] profile High, level 5.2, 4:2:0, 8-bit\n",
      "[libx264 @ 0x12cf0a110] 264 - core 164 r3095 baee400 - H.264/MPEG-4 AVC codec - Copyleft 2003-2022 - http://www.videolan.org/x264.html - options: cabac=1 ref=3 deblock=1:0:0 analyse=0x3:0x113 me=hex subme=7 psy=1 psy_rd=1.00:0.00 mixed_ref=1 me_range=16 chroma_me=1 trellis=1 8x8dct=1 cqm=0 deadzone=21,11 fast_pskip=1 chroma_qp_offset=-2 threads=12 lookahead_threads=2 sliced_threads=0 nr=0 decimate=1 interlaced=0 bluray_compat=0 constrained_intra=0 bframes=3 b_pyramid=2 b_adapt=1 b_bias=0 direct=1 weightb=1 open_gop=0 weightp=2 keyint=250 keyint_min=25 scenecut=40 intra_refresh=0 rc_lookahead=40 rc=crf mbtree=1 crf=23.0 qcomp=0.60 qpmin=0 qpmax=69 qpstep=4 ip_ratio=1.40 aq=1:1.00\n",
      "Output #0, mp4, to './realtime.mp4':\n",
      "  Metadata:\n",
      "    encoder         : Lavf60.3.100\n",
      "  Stream #0:0: Video: h264 (avc1 / 0x31637661), yuv420p(tv, bt709, progressive), 2940x1912, q=2-31, 60 fps, 15360 tbn\n",
      "    Metadata:\n",
      "      DURATION        : 00:00:21.284000000\n",
      "      encoder         : Lavc60.3.100 libx264\n",
      "    Side data:\n",
      "      cpb: bitrate max/min/avg: 0/0/0 buffer size: 0 vbv_delay: N/A\n",
      "  Stream #0:1: Audio: aac (LC) (mp4a / 0x6134706D), 48000 Hz, stereo, fltp, 128 kb/s\n",
      "    Metadata:\n",
      "      title           : simple_aac_recording0\n",
      "      DURATION        : 00:00:21.269000000\n",
      "      encoder         : Lavc60.3.100 aac\n",
      "frame= 1277 fps= 63 q=-1.0 Lsize=   10855kB time=00:00:21.24 bitrate=4185.0kbits/s speed=1.05x    \n",
      "video:10807kB audio:6kB subtitle:0kB other streams:0kB global headers:0kB muxing overhead: 0.392198%\n",
      "[libx264 @ 0x12cf0a110] frame I:6     Avg QP:18.89  size:140220\n",
      "[libx264 @ 0x12cf0a110] frame P:376   Avg QP:21.55  size: 23841\n",
      "[libx264 @ 0x12cf0a110] frame B:895   Avg QP:26.94  size:  1408\n",
      "[libx264 @ 0x12cf0a110] consecutive B-frames:  0.6% 17.5%  0.7% 81.1%\n",
      "[libx264 @ 0x12cf0a110] mb I  I16..4: 28.5% 64.0%  7.5%\n",
      "[libx264 @ 0x12cf0a110] mb P  I16..4:  4.2%  8.2%  0.3%  P16..4: 13.1%  3.1%  1.4%  0.0%  0.0%    skip:69.7%\n",
      "[libx264 @ 0x12cf0a110] mb B  I16..4:  0.0%  0.0%  0.0%  B16..8:  6.9%  0.0%  0.0%  direct: 0.1%  skip:92.9%  L0:38.0% L1:61.6% BI: 0.3%\n",
      "[libx264 @ 0x12cf0a110] 8x8 transform intra:64.4% inter:86.1%\n",
      "[libx264 @ 0x12cf0a110] coded y,uvDC,uvAC intra: 21.2% 23.1% 3.5% inter: 1.4% 1.4% 0.1%\n",
      "[libx264 @ 0x12cf0a110] i16 v,h,dc,p: 39% 26% 14% 21%\n",
      "[libx264 @ 0x12cf0a110] i8 v,h,dc,ddl,ddr,vr,hd,vl,hu: 37% 18% 30%  2%  2%  3%  2%  3%  2%\n",
      "[libx264 @ 0x12cf0a110] i4 v,h,dc,ddl,ddr,vr,hd,vl,hu: 37% 19% 13%  3%  8%  8%  5%  4%  3%\n",
      "[libx264 @ 0x12cf0a110] i8c dc,h,v,p: 59% 17% 20%  4%\n",
      "[libx264 @ 0x12cf0a110] Weighted P-Frames: Y:4.0% UV:2.9%\n",
      "[libx264 @ 0x12cf0a110] ref P L0: 68.3% 17.8% 11.2%  2.5%  0.3%\n",
      "[libx264 @ 0x12cf0a110] ref B L0: 82.7% 15.3%  2.0%\n",
      "[libx264 @ 0x12cf0a110] ref B L1: 96.5%  3.5%\n",
      "[libx264 @ 0x12cf0a110] kb/s:4159.31\n",
      "[aac @ 0x12cf0b250] Qavg: 65536.000\n"
     ]
    },
    {
     "data": {
      "text/plain": [
       "(None, None)"
      ]
     },
     "execution_count": 1,
     "metadata": {},
     "output_type": "execute_result"
    }
   ],
   "source": [
    "# convert video format from .mkv to .mp4\n",
    "import ffmpeg\n",
    "\n",
    "input_video_path = './input_video.mkv'\n",
    "output_video_path = './output_video.mp4'\n",
    "\n",
    "# convert video format\n",
    "ffmpeg.input(input_video_path).output(output_video_path).run()\n"
   ]
  }
 ],
 "metadata": {
  "kernelspec": {
   "display_name": "sports-ai",
   "language": "python",
   "name": "python3"
  },
  "language_info": {
   "codemirror_mode": {
    "name": "ipython",
    "version": 3
   },
   "file_extension": ".py",
   "mimetype": "text/x-python",
   "name": "python",
   "nbconvert_exporter": "python",
   "pygments_lexer": "ipython3",
   "version": "3.11.4"
  }
 },
 "nbformat": 4,
 "nbformat_minor": 2
}
