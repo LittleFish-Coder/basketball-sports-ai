{
 "cells": [
  {
   "cell_type": "code",
   "execution_count": 1,
   "metadata": {},
   "outputs": [
    {
     "name": "stderr",
     "output_type": "stream",
     "text": [
      "ffmpeg version 6.0 Copyright (c) 2000-2023 the FFmpeg developers\n",
      "  built with Apple clang version 14.0.3 (clang-1403.0.22.14.1)\n",
      "  configuration: --prefix=/opt/homebrew/Cellar/ffmpeg/6.0_1 --enable-shared --enable-pthreads --enable-version3 --cc=clang --host-cflags= --host-ldflags= --enable-ffplay --enable-gnutls --enable-gpl --enable-libaom --enable-libaribb24 --enable-libbluray --enable-libdav1d --enable-libmp3lame --enable-libopus --enable-librav1e --enable-librist --enable-librubberband --enable-libsnappy --enable-libsrt --enable-libsvtav1 --enable-libtesseract --enable-libtheora --enable-libvidstab --enable-libvmaf --enable-libvorbis --enable-libvpx --enable-libwebp --enable-libx264 --enable-libx265 --enable-libxml2 --enable-libxvid --enable-lzma --enable-libfontconfig --enable-libfreetype --enable-frei0r --enable-libass --enable-libopencore-amrnb --enable-libopencore-amrwb --enable-libopenjpeg --enable-libspeex --enable-libsoxr --enable-libzmq --enable-libzimg --disable-libjack --disable-indev=jack --enable-videotoolbox --enable-audiotoolbox --enable-neon\n",
      "  libavutil      58.  2.100 / 58.  2.100\n",
      "  libavcodec     60.  3.100 / 60.  3.100\n",
      "  libavformat    60.  3.100 / 60.  3.100\n",
      "  libavdevice    60.  1.100 / 60.  1.100\n",
      "  libavfilter     9.  3.100 /  9.  3.100\n",
      "  libswscale      7.  1.100 /  7.  1.100\n",
      "  libswresample   4. 10.100 /  4. 10.100\n",
      "  libpostproc    57.  1.100 / 57.  1.100\n",
      "Input #0, mov,mp4,m4a,3gp,3g2,mj2, from '../testing-datasets/gameplay.mov':\n",
      "  Metadata:\n",
      "    major_brand     : qt  \n",
      "    minor_version   : 0\n",
      "    compatible_brands: qt  \n",
      "    creation_time   : 2023-10-15T17:03:01.000000Z\n",
      "    encoder         : Lavf59.16.100\n",
      "  Duration: 00:00:05.00, start: 0.000000, bitrate: 2472 kb/s\n",
      "  Stream #0:0[0x1](und): Video: h264 (Constrained Baseline) (avc1 / 0x31637661), yuv420p(tv, bt709, progressive), 1280x720 [SAR 1:1 DAR 16:9], 2446 kb/s, 30 fps, 30 tbr, 15360 tbn (default)\n",
      "    Metadata:\n",
      "      creation_time   : 2023-10-15T17:03:01.000000Z\n",
      "      handler_name    : Core Media Video\n",
      "      vendor_id       : FFMP\n",
      "  Stream #0:1[0x2](und): Audio: aac (LC) (mp4a / 0x6134706D), 48000 Hz, stereo, fltp, 2 kb/s (default)\n",
      "    Metadata:\n",
      "      creation_time   : 2023-10-15T17:03:01.000000Z\n",
      "      handler_name    : Core Media Audio\n",
      "      vendor_id       : [0][0][0][0]\n",
      "Stream mapping:\n",
      "  Stream #0:0 -> #0:0 (h264 (native) -> h264 (libx264))\n",
      "  Stream #0:1 -> #0:1 (aac (native) -> aac (native))\n",
      "Press [q] to stop, [?] for help\n",
      "[libx264 @ 0x15a909bf0] using SAR=1/1\n",
      "[libx264 @ 0x15a909bf0] using cpu capabilities: ARMv8 NEON\n",
      "[libx264 @ 0x15a909bf0] profile High, level 3.1, 4:2:0, 8-bit\n",
      "[libx264 @ 0x15a909bf0] 264 - core 164 r3095 baee400 - H.264/MPEG-4 AVC codec - Copyleft 2003-2022 - http://www.videolan.org/x264.html - options: cabac=1 ref=3 deblock=1:0:0 analyse=0x3:0x113 me=hex subme=7 psy=1 psy_rd=1.00:0.00 mixed_ref=1 me_range=16 chroma_me=1 trellis=1 8x8dct=1 cqm=0 deadzone=21,11 fast_pskip=1 chroma_qp_offset=-2 threads=12 lookahead_threads=2 sliced_threads=0 nr=0 decimate=1 interlaced=0 bluray_compat=0 constrained_intra=0 bframes=3 b_pyramid=2 b_adapt=1 b_bias=0 direct=1 weightb=1 open_gop=0 weightp=2 keyint=250 keyint_min=25 scenecut=40 intra_refresh=0 rc_lookahead=40 rc=crf mbtree=1 crf=23.0 qcomp=0.60 qpmin=0 qpmax=69 qpstep=4 ip_ratio=1.40 aq=1:1.00\n",
      "Output #0, mp4, to '../testing-datasets/gameplay.mp4':\n",
      "  Metadata:\n",
      "    major_brand     : qt  \n",
      "    minor_version   : 0\n",
      "    compatible_brands: qt  \n",
      "    encoder         : Lavf60.3.100\n",
      "  Stream #0:0(und): Video: h264 (avc1 / 0x31637661), yuv420p(tv, bt709, progressive), 1280x720 [SAR 1:1 DAR 16:9], q=2-31, 30 fps, 15360 tbn (default)\n",
      "    Metadata:\n",
      "      creation_time   : 2023-10-15T17:03:01.000000Z\n",
      "      handler_name    : Core Media Video\n",
      "      vendor_id       : FFMP\n",
      "      encoder         : Lavc60.3.100 libx264\n",
      "    Side data:\n",
      "      cpb: bitrate max/min/avg: 0/0/0 buffer size: 0 vbv_delay: N/A\n",
      "  Stream #0:1(und): Audio: aac (LC) (mp4a / 0x6134706D), 48000 Hz, stereo, fltp, 128 kb/s (default)\n",
      "    Metadata:\n",
      "      creation_time   : 2023-10-15T17:03:01.000000Z\n",
      "      handler_name    : Core Media Audio\n",
      "      vendor_id       : [0][0][0][0]\n",
      "      encoder         : Lavc60.3.100 aac\n",
      "frame=  150 fps=0.0 q=-1.0 Lsize=     706kB time=00:00:04.99 bitrate=1158.5kbits/s speed=9.08x    \n",
      "video:698kB audio:1kB subtitle:0kB other streams:0kB global headers:0kB muxing overhead: 0.926150%\n",
      "[libx264 @ 0x15a909bf0] frame I:1     Avg QP:19.51  size: 88726\n",
      "[libx264 @ 0x15a909bf0] frame P:80    Avg QP:20.93  size:  6023\n",
      "[libx264 @ 0x15a909bf0] frame B:69    Avg QP:25.99  size:  2081\n",
      "[libx264 @ 0x15a909bf0] consecutive B-frames: 37.3%  2.7%  4.0% 56.0%\n",
      "[libx264 @ 0x15a909bf0] mb I  I16..4: 64.2%  2.0% 33.8%\n",
      "[libx264 @ 0x15a909bf0] mb P  I16..4:  0.3%  0.3%  0.5%  P16..4: 16.4%  2.3%  2.3%  0.0%  0.0%    skip:77.9%\n",
      "[libx264 @ 0x15a909bf0] mb B  I16..4:  0.0%  0.0%  0.1%  B16..8: 10.1%  1.9%  0.9%  direct: 0.4%  skip:86.5%  L0:48.7% L1:41.5% BI: 9.8%\n",
      "[libx264 @ 0x15a909bf0] 8x8 transform intra:13.8% inter:36.1%\n",
      "[libx264 @ 0x15a909bf0] coded y,uvDC,uvAC intra: 93.0% 64.9% 26.4% inter: 4.6% 5.2% 0.1%\n",
      "[libx264 @ 0x15a909bf0] i16 v,h,dc,p:  7% 64% 21%  9%\n",
      "[libx264 @ 0x15a909bf0] i8 v,h,dc,ddl,ddr,vr,hd,vl,hu: 13% 29% 13%  5%  7%  8%  6%  9% 10%\n",
      "[libx264 @ 0x15a909bf0] i4 v,h,dc,ddl,ddr,vr,hd,vl,hu: 18% 42% 15%  4%  4%  4%  4%  4%  4%\n",
      "[libx264 @ 0x15a909bf0] i8c dc,h,v,p: 46% 30% 18%  6%\n",
      "[libx264 @ 0x15a909bf0] Weighted P-Frames: Y:0.0% UV:0.0%\n",
      "[libx264 @ 0x15a909bf0] ref P L0: 78.1%  5.3% 10.7%  5.9%\n",
      "[libx264 @ 0x15a909bf0] ref B L0: 84.6% 13.2%  2.2%\n",
      "[libx264 @ 0x15a909bf0] ref B L1: 94.5%  5.5%\n",
      "[libx264 @ 0x15a909bf0] kb/s:1142.68\n",
      "[aac @ 0x15a90aea0] Qavg: 65536.000\n"
     ]
    },
    {
     "data": {
      "text/plain": [
       "(None, None)"
      ]
     },
     "execution_count": 1,
     "metadata": {},
     "output_type": "execute_result"
    }
   ],
   "source": [
    "# convert video format from .mkv to .mp4\n",
    "import ffmpeg\n",
    "\n",
    "input_video_path = '../testing-datasets/gameplay.mov'\n",
    "output_video_path = '../testing-datasets/gameplay.mp4'\n",
    "\n",
    "# convert video format\n",
    "ffmpeg.input(input_video_path).output(output_video_path).run()\n"
   ]
  }
 ],
 "metadata": {
  "kernelspec": {
   "display_name": "sports-ai",
   "language": "python",
   "name": "python3"
  },
  "language_info": {
   "codemirror_mode": {
    "name": "ipython",
    "version": 3
   },
   "file_extension": ".py",
   "mimetype": "text/x-python",
   "name": "python",
   "nbconvert_exporter": "python",
   "pygments_lexer": "ipython3",
   "version": "3.11.4"
  }
 },
 "nbformat": 4,
 "nbformat_minor": 2
}
