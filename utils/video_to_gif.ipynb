{
 "cells": [
  {
   "cell_type": "code",
   "execution_count": 2,
   "metadata": {},
   "outputs": [
    {
     "name": "stderr",
     "output_type": "stream",
     "text": [
      "ffmpeg version 6.0 Copyright (c) 2000-2023 the FFmpeg developers\n",
      "  built with Apple clang version 14.0.3 (clang-1403.0.22.14.1)\n",
      "  configuration: --prefix=/opt/homebrew/Cellar/ffmpeg/6.0_1 --enable-shared --enable-pthreads --enable-version3 --cc=clang --host-cflags= --host-ldflags= --enable-ffplay --enable-gnutls --enable-gpl --enable-libaom --enable-libaribb24 --enable-libbluray --enable-libdav1d --enable-libmp3lame --enable-libopus --enable-librav1e --enable-librist --enable-librubberband --enable-libsnappy --enable-libsrt --enable-libsvtav1 --enable-libtesseract --enable-libtheora --enable-libvidstab --enable-libvmaf --enable-libvorbis --enable-libvpx --enable-libwebp --enable-libx264 --enable-libx265 --enable-libxml2 --enable-libxvid --enable-lzma --enable-libfontconfig --enable-libfreetype --enable-frei0r --enable-libass --enable-libopencore-amrnb --enable-libopencore-amrwb --enable-libopenjpeg --enable-libspeex --enable-libsoxr --enable-libzmq --enable-libzimg --disable-libjack --disable-indev=jack --enable-videotoolbox --enable-audiotoolbox --enable-neon\n",
      "  libavutil      58.  2.100 / 58.  2.100\n",
      "  libavcodec     60.  3.100 / 60.  3.100\n",
      "  libavformat    60.  3.100 / 60.  3.100\n",
      "  libavdevice    60.  1.100 / 60.  1.100\n",
      "  libavfilter     9.  3.100 /  9.  3.100\n",
      "  libswscale      7.  1.100 /  7.  1.100\n",
      "  libswresample   4. 10.100 /  4. 10.100\n",
      "  libpostproc    57.  1.100 / 57.  1.100\n",
      "Input #0, mov,mp4,m4a,3gp,3g2,mj2, from '../runs/detect/predict3/側面.mp4':\n",
      "  Metadata:\n",
      "    major_brand     : isom\n",
      "    minor_version   : 512\n",
      "    compatible_brands: isomiso2avc1mp41\n",
      "    encoder         : Lavf59.27.100\n",
      "  Duration: 00:00:37.20, start: 0.000000, bitrate: 1489 kb/s\n",
      "  Stream #0:0[0x1](und): Video: h264 (High) (avc1 / 0x31637661), yuv420p(progressive), 1280x720, 1486 kb/s, 30 fps, 30 tbr, 15360 tbn (default)\n",
      "    Metadata:\n",
      "      handler_name    : VideoHandler\n",
      "      vendor_id       : [0][0][0][0]\n",
      "Stream mapping:\n",
      "  Stream #0:0 (h264) -> setpts:default\n",
      "  setpts:default -> Stream #0:0 (gif)\n",
      "Press [q] to stop, [?] for help\n",
      "[swscaler @ 0x12a570000] [swscaler @ 0x12a580000] No accelerated colorspace conversion found from yuv420p to bgr8.\n",
      "[swscaler @ 0x12a570000] [swscaler @ 0x12a590000] No accelerated colorspace conversion found from yuv420p to bgr8.\n",
      "[swscaler @ 0x12a570000] [swscaler @ 0x12a5a0000] No accelerated colorspace conversion found from yuv420p to bgr8.\n",
      "[swscaler @ 0x12a570000] [swscaler @ 0x12a5b0000] No accelerated colorspace conversion found from yuv420p to bgr8.\n",
      "[swscaler @ 0x12a570000] [swscaler @ 0x12a5c0000] No accelerated colorspace conversion found from yuv420p to bgr8.\n",
      "[swscaler @ 0x12a570000] [swscaler @ 0x12a5d0000] No accelerated colorspace conversion found from yuv420p to bgr8.\n",
      "[swscaler @ 0x12a570000] [swscaler @ 0x12a5e0000] No accelerated colorspace conversion found from yuv420p to bgr8.\n",
      "[swscaler @ 0x12a570000] [swscaler @ 0x12a5f0000] No accelerated colorspace conversion found from yuv420p to bgr8.\n",
      "[swscaler @ 0x12a570000] [swscaler @ 0x12a600000] No accelerated colorspace conversion found from yuv420p to bgr8.\n",
      "Output #0, gif, to '../src/output.gif':\n",
      "  Metadata:\n",
      "    major_brand     : isom\n",
      "    minor_version   : 512\n",
      "    compatible_brands: isomiso2avc1mp41\n",
      "    encoder         : Lavf60.3.100\n",
      "  Stream #0:0: Video: gif, bgr8(pc, gbr/unknown/unknown, progressive), 1280x720, q=2-31, 200 kb/s, 30 fps, 100 tbn\n",
      "    Metadata:\n",
      "      encoder         : Lavc60.3.100 gif\n",
      "frame=  300 fps=128 q=-0.0 Lsize=   12086kB time=00:00:09.97 bitrate=9930.9kbits/s speed=4.26x    \n",
      "video:12086kB audio:0kB subtitle:0kB other streams:0kB global headers:0kB muxing overhead: 0.000162%\n"
     ]
    }
   ],
   "source": [
    "# A program to convert a video to a gif\n",
    "# - specify the starting time of the gif\n",
    "# - specify the duration of the gif\n",
    "# - specify the playback speed of the gif\n",
    "\n",
    "import ffmpeg\n",
    "\n",
    "def convert_video_to_gif(input_video_path, output_gif_path, start_time=0, duration=5, playback_speed=1):\n",
    "  \"\"\"Converts a video to a GIF\n",
    "\n",
    "  Args:\n",
    "    input_video_path: The path to the input video file.\n",
    "    output_gif_path: The path to the output GIF file.\n",
    "    start_time: The starting time of the video.\n",
    "    duration: The duration of the video.\n",
    "    playback_speed: The playback speed. (Normal speed is 1.0)\n",
    "  \"\"\"\n",
    "\n",
    "  ffmpeg.input(input_video_path, ss=start_time).filter('setpts', f'{playback_speed}*PTS').output(output_gif_path, format='gif', t=duration).run(overwrite_output=True)\n",
    "\n",
    "if __name__ == '__main__':\n",
    "  input_video_path = '../runs/detect/predict3/側面.mp4'\n",
    "  output_gif_path = '../src/output.gif'\n",
    "  start_time = 15 # seconds\n",
    "  duration = 10 # seconds\n",
    "  playback_speed = 1 # the lower the value is -> the faster the video is\n",
    "\n",
    "  convert_video_to_gif(input_video_path, output_gif_path, start_time, duration, playback_speed)"
   ]
  }
 ],
 "metadata": {
  "kernelspec": {
   "display_name": "sports-ai",
   "language": "python",
   "name": "python3"
  },
  "language_info": {
   "codemirror_mode": {
    "name": "ipython",
    "version": 3
   },
   "file_extension": ".py",
   "mimetype": "text/x-python",
   "name": "python",
   "nbconvert_exporter": "python",
   "pygments_lexer": "ipython3",
   "version": "3.11.4"
  },
  "orig_nbformat": 4
 },
 "nbformat": 4,
 "nbformat_minor": 2
}
