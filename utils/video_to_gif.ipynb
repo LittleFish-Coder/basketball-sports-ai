{
 "cells": [
  {
   "cell_type": "code",
   "execution_count": null,
   "metadata": {},
   "outputs": [],
   "source": [
    "# A program to convert a video to a gif\n",
    "# - specify the starting time of the gif\n",
    "# - specify the duration of the gif\n",
    "# - specify the playback speed of the gif\n",
    "\n",
    "import ffmpeg\n",
    "import os\n",
    "\n",
    "def convert_video_to_gif(input_video_path, output_gif_path, start_time=0, duration=5, playback_speed=1):\n",
    "  \"\"\"Converts a video to a GIF\n",
    "\n",
    "  Args:\n",
    "    input_video_path: The path to the input video file.\n",
    "    output_gif_path: The path to the output GIF file.\n",
    "    start_time: The starting time of the video.\n",
    "    duration: The duration of the video.\n",
    "    playback_speed: The playback speed. (Normal speed is 1.0)\n",
    "  \"\"\"\n",
    "\n",
    "  ffmpeg.input(input_video_path, ss=start_time).filter('setpts', f'{playback_speed}*PTS').output(output_gif_path, format='gif', t=duration).run(overwrite_output=True)\n",
    "\n",
    "if __name__ == '__main__':\n",
    "  input_video_path = os.path.join(os.getcwd(), 'runs/detect/predict4/side.avi')\n",
    "  output_gif_path = os.path.join(os.getcwd(), 'src/output.gif')\n",
    "  start_time = 0 # seconds\n",
    "  duration = 10 # seconds\n",
    "  playback_speed = 1 # the lower the value is -> the faster the video is\n",
    "\n",
    "  convert_video_to_gif(input_video_path, output_gif_path, start_time, duration, playback_speed)"
   ]
  }
 ],
 "metadata": {
  "kernelspec": {
   "display_name": "sports-ai",
   "language": "python",
   "name": "python3"
  },
  "language_info": {
   "codemirror_mode": {
    "name": "ipython",
    "version": 3
   },
   "file_extension": ".py",
   "mimetype": "text/x-python",
   "name": "python",
   "nbconvert_exporter": "python",
   "pygments_lexer": "ipython3",
   "version": "3.11.5"
  },
  "orig_nbformat": 4
 },
 "nbformat": 4,
 "nbformat_minor": 2
}
