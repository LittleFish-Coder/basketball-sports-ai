{
 "cells": [
  {
   "cell_type": "code",
   "execution_count": null,
   "metadata": {},
   "outputs": [],
   "source": [
    "from  ultralytics import YOLO\n",
    "import os\n",
    "\n",
    "# load pretrained model\n",
    "model = YOLO('./model_pt/yolov8m.pt')"
   ]
  },
  {
   "cell_type": "code",
   "execution_count": null,
   "metadata": {},
   "outputs": [],
   "source": [
    "# train the model on custom dataset\n",
    "yml_path = os.path.join(os.getcwd(), 'datasets/Player Actions.v2i.yolov8/data.yaml')\n",
    "model.train(data=yml_path, epochs=10)   # the result will be saved in runs/detect/train/weights"
   ]
  }
 ],
 "metadata": {
  "kernelspec": {
   "display_name": "sports-ai",
   "language": "python",
   "name": "python3"
  },
  "language_info": {
   "codemirror_mode": {
    "name": "ipython",
    "version": 3
   },
   "file_extension": ".py",
   "mimetype": "text/x-python",
   "name": "python",
   "nbconvert_exporter": "python",
   "pygments_lexer": "ipython3",
   "version": "3.11.5"
  }
 },
 "nbformat": 4,
 "nbformat_minor": 2
}
