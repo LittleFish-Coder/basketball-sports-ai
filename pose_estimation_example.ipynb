{
 "cells": [
  {
   "cell_type": "code",
   "execution_count": null,
   "metadata": {},
   "outputs": [],
   "source": [
    "from ultralytics import YOLO\n",
    "import os\n",
    "\n",
    "# Load pretrained model\n",
    "pt_path = os.path.join(os.getcwd(), 'model_pt/yolov8n-pose.pt')\n",
    "model = YOLO(pt_path)"
   ]
  },
  {
   "cell_type": "code",
   "execution_count": null,
   "metadata": {},
   "outputs": [],
   "source": [
    "# Inference on a video\n",
    "source = os.path.join(os.getcwd(), 'runs/detect/predict4/alan.mp4')\n",
    "results = model(source, save=True, conf=0.5, boxes=False)"
   ]
  },
  {
   "cell_type": "markdown",
   "metadata": {},
   "source": [
    "# Predict Guide\n",
    "\n",
    "The prediction settings for YOLO models encompass a range of hyperparameters and configurations that influence the model's performance, speed, and accuracy during inference on new data. Careful tuning and experimentation with these settings are essential to achieve optimal performance for a specific task. Key settings include the confidence threshold, Non-Maximum Suppression (NMS) threshold, and the number of classes considered. Additional factors affecting the prediction process are input data size and format, the presence of supplementary features such as masks or multiple labels per box, and the particular task the model is employed for.\n",
    "\n",
    "https://docs.ultralytics.com/usage/cfg/#predict"
   ]
  },
  {
   "cell_type": "code",
   "execution_count": null,
   "metadata": {},
   "outputs": [],
   "source": [
    "# Inference\n",
    "source = os.path.join(os.getcwd(), 'testing-datasets/side.mp4')\n",
    "\n",
    "# Configurations\n",
    "results = model(source, save=True, conf=0.5, show_labels=False, show_conf=False, max_det=2, boxes=False, stream=False)\n",
    "\n",
    "# Arguments\n",
    "# source: source directory for images or videos\n",
    "# save: save images with results\n",
    "# conf: object confidence threshold for detection\n",
    "# show_labels: show object labels in plots\n",
    "# show_conf: show object confidence scores in plots\n",
    "# max_det: Maximum number of detections per image\n",
    "# boxes: Show boxes in segmentation predictions"
   ]
  },
  {
   "cell_type": "markdown",
   "metadata": {},
   "source": [
    "Use `stream=True` for processing long videos or large datasets to efficiently manage memory. When `stream=False`, the results for all frames or data points are stored in memory, which can quickly add up and cause out-of-memory errors for large inputs. In contrast, `stream=True` utilizes a generator, which only keeps the results of the current frame or data point in memory, significantly reducing memory consumption and preventing out-of-memory issues."
   ]
  },
  {
   "cell_type": "code",
   "execution_count": null,
   "metadata": {},
   "outputs": [],
   "source": [
    "# Inference on streaming video\n",
    "results = model(source, save=True, conf=0.5, show_labels=False, show_conf=False, max_det=2, boxes=False, stream=True)\n",
    "\n",
    "# Use `Stream=True` for processing long videos or large datasets to efficiently manage memory.\n",
    "\n",
    "# Process results list\n",
    "for result in results:\n",
    "    boxes = result.boxes  # Boxes object for bbox outputs\n",
    "    masks = result.masks  # Masks object for segmentation masks outputs\n",
    "    keypoints = result.keypoints  # Keypoints object for pose outputs\n",
    "    probs = result.probs  # Probs object for classification outputs"
   ]
  },
  {
   "cell_type": "code",
   "execution_count": null,
   "metadata": {},
   "outputs": [],
   "source": [
    "# Real-time inference on webcam\n",
    "results = model(source=0, save=True, conf=0.6, show_labels=False, show_conf=False, boxes=False, show=True) # source=0 for webcam"
   ]
  }
 ],
 "metadata": {
  "kernelspec": {
   "display_name": "sports-ai",
   "language": "python",
   "name": "python3"
  },
  "language_info": {
   "codemirror_mode": {
    "name": "ipython",
    "version": 3
   },
   "file_extension": ".py",
   "mimetype": "text/x-python",
   "name": "python",
   "nbconvert_exporter": "python",
   "pygments_lexer": "ipython3",
   "version": "3.10.0"
  },
  "orig_nbformat": 4
 },
 "nbformat": 4,
 "nbformat_minor": 2
}
