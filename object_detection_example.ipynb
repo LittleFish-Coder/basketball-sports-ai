{
 "cells": [
  {
   "cell_type": "code",
   "execution_count": 3,
   "metadata": {},
   "outputs": [
    {
     "name": "stdout",
     "output_type": "stream",
     "text": [
      "loading Roboflow workspace...\n",
      "loading Roboflow project...\n",
      "{'predictions': [], 'image': {'width': '1280', 'height': '720'}}\n"
     ]
    }
   ],
   "source": [
    "from roboflow import Roboflow\n",
    "rf = Roboflow(api_key=\"DzBiCMqLGzidi5m1k8MR\")\n",
    "project = rf.workspace().project(\"basketball-player-actions\")\n",
    "model = project.version(1).model\n",
    "\n",
    "# infer on a local image\n",
    "print(model.predict(\"frame.jpg\", confidence=40, overlap=30).json())\n",
    "\n",
    "# visualize your prediction\n",
    "# model.predict(\"input.mp4\", confidence=40, overlap=30).save(\"prediction.jpg\")\n",
    "\n",
    "# infer on an image hosted elsewhere\n",
    "# print(model.predict(\"URL_OF_YOUR_IMAGE\", hosted=True, confidence=40, overlap=30).json())"
   ]
  },
  {
   "cell_type": "code",
   "execution_count": 5,
   "metadata": {},
   "outputs": [
    {
     "ename": "AttributeError",
     "evalue": "'ObjectDetectionModel' object has no attribute 'forward'",
     "output_type": "error",
     "traceback": [
      "\u001b[0;31m---------------------------------------------------------------------------\u001b[0m",
      "\u001b[0;31mAttributeError\u001b[0m                            Traceback (most recent call last)",
      "\u001b[1;32m/Users/fish/Desktop/CODE/basketball-sports-ai/object_detection_example.ipynb Cell 2\u001b[0m line \u001b[0;36m2\n\u001b[1;32m     <a href='vscode-notebook-cell:/Users/fish/Desktop/CODE/basketball-sports-ai/object_detection_example.ipynb#W1sZmlsZQ%3D%3D?line=24'>25</a>\u001b[0m     \u001b[39m# Inference the frame\u001b[39;00m\n\u001b[1;32m     <a href='vscode-notebook-cell:/Users/fish/Desktop/CODE/basketball-sports-ai/object_detection_example.ipynb#W1sZmlsZQ%3D%3D?line=25'>26</a>\u001b[0m     blob \u001b[39m=\u001b[39m cv2\u001b[39m.\u001b[39mdnn\u001b[39m.\u001b[39mblobFromImage(frame, \u001b[39m1\u001b[39m\u001b[39m/\u001b[39m\u001b[39m255.0\u001b[39m, (\u001b[39m416\u001b[39m, \u001b[39m416\u001b[39m), swapRB\u001b[39m=\u001b[39m\u001b[39mTrue\u001b[39;00m, crop\u001b[39m=\u001b[39m\u001b[39mFalse\u001b[39;00m)\n\u001b[0;32m---> <a href='vscode-notebook-cell:/Users/fish/Desktop/CODE/basketball-sports-ai/object_detection_example.ipynb#W1sZmlsZQ%3D%3D?line=26'>27</a>\u001b[0m     detections \u001b[39m=\u001b[39m model\u001b[39m.\u001b[39;49mforward(blob)\n\u001b[1;32m     <a href='vscode-notebook-cell:/Users/fish/Desktop/CODE/basketball-sports-ai/object_detection_example.ipynb#W1sZmlsZQ%3D%3D?line=28'>29</a>\u001b[0m     \u001b[39m# Display the frame\u001b[39;00m\n\u001b[1;32m     <a href='vscode-notebook-cell:/Users/fish/Desktop/CODE/basketball-sports-ai/object_detection_example.ipynb#W1sZmlsZQ%3D%3D?line=29'>30</a>\u001b[0m     \u001b[39m# cv2.imshow('Video Frame', frame)\u001b[39;00m\n\u001b[1;32m     <a href='vscode-notebook-cell:/Users/fish/Desktop/CODE/basketball-sports-ai/object_detection_example.ipynb#W1sZmlsZQ%3D%3D?line=30'>31</a>\u001b[0m \n\u001b[0;32m   (...)\u001b[0m\n\u001b[1;32m     <a href='vscode-notebook-cell:/Users/fish/Desktop/CODE/basketball-sports-ai/object_detection_example.ipynb#W1sZmlsZQ%3D%3D?line=34'>35</a>\u001b[0m \n\u001b[1;32m     <a href='vscode-notebook-cell:/Users/fish/Desktop/CODE/basketball-sports-ai/object_detection_example.ipynb#W1sZmlsZQ%3D%3D?line=35'>36</a>\u001b[0m \u001b[39m# Release the video capture object and close the display window\u001b[39;00m\n\u001b[1;32m     <a href='vscode-notebook-cell:/Users/fish/Desktop/CODE/basketball-sports-ai/object_detection_example.ipynb#W1sZmlsZQ%3D%3D?line=36'>37</a>\u001b[0m cap\u001b[39m.\u001b[39mrelease()\n",
      "\u001b[0;31mAttributeError\u001b[0m: 'ObjectDetectionModel' object has no attribute 'forward'"
     ]
    }
   ],
   "source": [
    "import cv2\n",
    "\n",
    "# Open the video file\n",
    "video_path = 'input.mp4'\n",
    "cap = cv2.VideoCapture(video_path)\n",
    "\n",
    "# Get the FPS (frames per second) of the video\n",
    "# fps = int(cap.get(cv2.CAP_PROP_FPS))\n",
    "# print(f\"Original FPS: {fps}\")\n",
    "\n",
    "# Get the default FPS (frames per second) of the video\n",
    "default_fps = cap.get(cv2.CAP_PROP_FPS)\n",
    "# Set the desired FPS (e.g., 30 FPS)\n",
    "cap.set(cv2.CAP_PROP_FPS, default_fps)\n",
    "\n",
    "# Loop to read and display frames\n",
    "while cap.isOpened():\n",
    "    # Read a frame from the video\n",
    "    ret, frame = cap.read()\n",
    "\n",
    "    # Check if we have reached the end of the video\n",
    "    if not ret:\n",
    "        break\n",
    "\n",
    "    # Inference the frame\n",
    "    blob = cv2.dnn.blobFromImage(frame, 1/255.0, (416, 416), swapRB=True, crop=False)\n",
    "    detections = model.predict(\"input.mp4\", confidence=40, overlap=30).json()\n",
    "\n",
    "    # Display the frame\n",
    "    # cv2.imshow('Video Frame', frame)\n",
    "\n",
    "    # Break the loop if 'q' key is pressed\n",
    "    # if cv2.waitKey(25) & 0xFF == ord('q'):\n",
    "    #     break\n",
    "\n",
    "# Release the video capture object and close the display window\n",
    "cap.release()\n",
    "cv2.destroyAllWindows()\n"
   ]
  }
 ],
 "metadata": {
  "kernelspec": {
   "display_name": "sports-ai",
   "language": "python",
   "name": "python3"
  },
  "language_info": {
   "codemirror_mode": {
    "name": "ipython",
    "version": 3
   },
   "file_extension": ".py",
   "mimetype": "text/x-python",
   "name": "python",
   "nbconvert_exporter": "python",
   "pygments_lexer": "ipython3",
   "version": "3.11.4"
  },
  "orig_nbformat": 4
 },
 "nbformat": 4,
 "nbformat_minor": 2
}
