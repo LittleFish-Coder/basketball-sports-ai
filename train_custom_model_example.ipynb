{
 "cells": [
  {
   "cell_type": "code",
   "execution_count": null,
   "metadata": {},
   "outputs": [],
   "source": [
    "from ultralytics import YOLO\n",
    "import os\n",
    "\n",
    "# load pretrained model\n",
    "model = YOLO('yolov8n.pt')  # You can also specify `yolov8m.pt` or other pretrained weights\n",
    "\n",
    "# train the model on custom dataset\n",
    "yml_path = os.path.join(os.getcwd(), 'datasets/Player Actions.v2i.yolov8/data.yaml')\n",
    "results = model.train(data=yml_path, epochs=5)  # the result will be saved in runs/detect/train/weights"
   ]
  },
  {
   "cell_type": "markdown",
   "metadata": {},
   "source": [
    "# Train Guide\n",
    "\n",
    "The training settings for YOLO models encompass various hyperparameters and configurations used during the training process. These settings influence the model's performance, speed, and accuracy. Key training settings include batch size, learning rate, momentum, and weight decay. Additionally, the choice of optimizer, loss function, and training dataset composition can impact the training process. Careful tuning and experimentation with these settings are crucial for optimizing performance.\n",
    "\n",
    "https://docs.ultralytics.com/usage/cfg/#train"
   ]
  }
 ],
 "metadata": {
  "kernelspec": {
   "display_name": "sports-ai",
   "language": "python",
   "name": "python3"
  },
  "language_info": {
   "codemirror_mode": {
    "name": "ipython",
    "version": 3
   },
   "file_extension": ".py",
   "mimetype": "text/x-python",
   "name": "python",
   "nbconvert_exporter": "python",
   "pygments_lexer": "ipython3",
   "version": "3.11.5"
  }
 },
 "nbformat": 4,
 "nbformat_minor": 2
}
